{
 "cells": [
  {
   "cell_type": "code",
   "execution_count": 13,
   "metadata": {},
   "outputs": [],
   "source": [
    "import numpy as np\n",
    "numproc=np.array([1, 4, 8, 12, 16, 20, 24, 28, 32, 36, 40, 44, 48])"
   ]
  },
  {
   "cell_type": "code",
   "execution_count": 14,
   "metadata": {},
   "outputs": [
    {
     "data": {
      "text/plain": [
       "array([ 1,  4,  8, 12, 16, 20, 24, 28, 32, 36, 40, 44, 48])"
      ]
     },
     "execution_count": 14,
     "metadata": {},
     "output_type": "execute_result"
    }
   ],
   "source": [
    "numproc"
   ]
  },
  {
   "cell_type": "code",
   "execution_count": 15,
   "metadata": {},
   "outputs": [],
   "source": [
    "timeinter1=np.array([2.62906225, 2.63457773, 2.64574085, 2.68263289, 2.68242693, 2.74615441, 2.76263236, 3.05710696, 3.12656027, 3.09425462, 3.16279906, 3.18069676, 3.33818174])\n",
    "t1i=2.62906225\n",
    "Spiw1=t1i/timeinter1"
   ]
  },
  {
   "cell_type": "code",
   "execution_count": 16,
   "metadata": {},
   "outputs": [],
   "source": [
    "timeinter2=np.array([26.29952739, 26.30850352, 26.39663273, 26.56701298, 26.85926024, 30.52558638, 44.29509099, 30.09017106, 31.13207892, 31.06572622, 31.62034473, 31.22786546, 35.0685509])\n",
    "t2i=26.29952739\n",
    "Spiw2=t2i/timeinter2"
   ]
  },
  {
   "cell_type": "code",
   "execution_count": 17,
   "metadata": {},
   "outputs": [
    {
     "data": {
      "text/plain": [
       "array([1.        , 0.9979065 , 0.99369606, 0.98003057, 0.98010582,\n",
       "       0.95736141, 0.95165115, 0.85998373, 0.84088008, 0.84965931,\n",
       "       0.83124543, 0.82656803, 0.78757313])"
      ]
     },
     "execution_count": 17,
     "metadata": {},
     "output_type": "execute_result"
    }
   ],
   "source": [
    "Spiw1"
   ]
  },
  {
   "cell_type": "code",
   "execution_count": 18,
   "metadata": {},
   "outputs": [
    {
     "data": {
      "text/plain": [
       "array([1.        , 0.99965881, 0.9963213 , 0.98993166, 0.97916053,\n",
       "       0.86155683, 0.59373458, 0.87402386, 0.8447726 , 0.84657694,\n",
       "       0.83172804, 0.8421814 , 0.74994623])"
      ]
     },
     "execution_count": 18,
     "metadata": {},
     "output_type": "execute_result"
    }
   ],
   "source": [
    "Spiw2"
   ]
  },
  {
   "cell_type": "code",
   "execution_count": 30,
   "metadata": {},
   "outputs": [],
   "source": [
    "import numpy as np\n",
    "numproc3=np.array([1, 4, 8, 12, 16, 20, 24, 28])"
   ]
  },
  {
   "cell_type": "code",
   "execution_count": 31,
   "metadata": {},
   "outputs": [],
   "source": [
    "timeinter3=np.array([262.96071687, 263.74183379, 264.98594394, 269.5232338, 268.34657157, 275.0922167, 277.81126514, 303.12237916])\n",
    "t3i=263.6653838\n",
    "Spiw3=t3i/timeinter3"
   ]
  },
  {
   "cell_type": "code",
   "execution_count": 32,
   "metadata": {},
   "outputs": [
    {
     "data": {
      "text/plain": [
       "array([1.00267974, 0.99971013, 0.99501649, 0.97826588, 0.98255544,\n",
       "       0.95846181, 0.94908097, 0.86983147])"
      ]
     },
     "execution_count": 32,
     "metadata": {},
     "output_type": "execute_result"
    }
   ],
   "source": [
    "Spiw3"
   ]
  },
  {
   "cell_type": "code",
   "execution_count": 21,
   "metadata": {},
   "outputs": [],
   "source": [
    "import numpy as np\n",
    "numproc2=np.array([1, 12, 24, 48])"
   ]
  },
  {
   "cell_type": "code",
   "execution_count": 22,
   "metadata": {},
   "outputs": [
    {
     "data": {
      "text/plain": [
       "array([ 1, 12, 24, 48])"
      ]
     },
     "execution_count": 22,
     "metadata": {},
     "output_type": "execute_result"
    }
   ],
   "source": [
    "numproc2"
   ]
  },
  {
   "cell_type": "code",
   "execution_count": 23,
   "metadata": {},
   "outputs": [],
   "source": [
    "timeinter4=np.array([2.62838363, 2.74049637, 2.8124729, 3.46365735])\n",
    "t4i=2.62838363\n",
    "Spiw4=t4i/timeinter4"
   ]
  },
  {
   "cell_type": "code",
   "execution_count": 24,
   "metadata": {},
   "outputs": [
    {
     "data": {
      "text/plain": [
       "array([1.        , 0.95909035, 0.93454541, 0.75884632])"
      ]
     },
     "execution_count": 24,
     "metadata": {},
     "output_type": "execute_result"
    }
   ],
   "source": [
    "Spiw4"
   ]
  },
  {
   "cell_type": "code",
   "execution_count": 33,
   "metadata": {},
   "outputs": [
    {
     "data": {
      "image/png": "[encoded data removed]",
      "text/plain": [
       "<Figure size 432x288 with 1 Axes>"
      ]
     },
     "metadata": {
      "needs_background": "light"
     },
     "output_type": "display_data"
    }
   ],
   "source": [
    "import numpy as np\n",
    "import matplotlib.pyplot as plt\n",
    "\n",
    "plt.plot(numproc, Spiw1, 'r--', label=\"10^8\")\n",
    "plt.plot(numproc, Spiw2, 'b--', label=\"10^9\")\n",
    "plt.plot(numproc3, Spiw3, 'g--', label=\"10^10\")\n",
    "plt.plot(numproc2, Spiw4, 'g^', label=\"10^11\")\n",
    "plt.xlabel('processors number')\n",
    "plt.ylabel('speedup')\n",
    "#plt.text(0,.00020, r'$N=2000$')\n",
    "plt.suptitle('weak scalability internal time')\n",
    "plt.legend(loc='best')\n",
    "plt.savefig('weaktotint.png')\n",
    "plt.show()"
   ]
  },
  {
   "cell_type": "code",
   "execution_count": null,
   "metadata": {},
   "outputs": [],
   "source": []
  },
  {
   "cell_type": "code",
   "execution_count": null,
   "metadata": {},
   "outputs": [],
   "source": []
  },
  {
   "cell_type": "code",
   "execution_count": null,
   "metadata": {},
   "outputs": [],
   "source": []
  },
  {
   "cell_type": "code",
   "execution_count": null,
   "metadata": {},
   "outputs": [],
   "source": []
  },
  {
   "cell_type": "code",
   "execution_count": null,
   "metadata": {},
   "outputs": [],
   "source": []
  },
  {
   "cell_type": "code",
   "execution_count": null,
   "metadata": {},
   "outputs": [],
   "source": []
  },
  {
   "cell_type": "code",
   "execution_count": null,
   "metadata": {},
   "outputs": [],
   "source": []
  },
  {
   "cell_type": "code",
   "execution_count": null,
   "metadata": {},
   "outputs": [],
   "source": []
  },
  {
   "cell_type": "code",
   "execution_count": null,
   "metadata": {},
   "outputs": [],
   "source": []
  },
  {
   "cell_type": "code",
   "execution_count": null,
   "metadata": {},
   "outputs": [],
   "source": []
  }
 ],
 "metadata": {
  "kernelspec": {
   "display_name": "Python 3",
   "language": "python",
   "name": "python3"
  },
  "language_info": {
   "codemirror_mode": {
    "name": "ipython",
    "version": 3
   },
   "file_extension": ".py",
   "mimetype": "text/x-python",
   "name": "python",
   "nbconvert_exporter": "python",
   "pygments_lexer": "ipython3",
   "version": "3.8.5"
  }
 },
 "nbformat": 4,
 "nbformat_minor": 4
}
