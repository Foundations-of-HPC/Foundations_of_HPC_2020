{
 "cells": [
  {
   "cell_type": "code",
   "execution_count": 2,
   "metadata": {},
   "outputs": [],
   "source": [
    "import numpy as np\n",
    "numproc=np.array([1, 4, 8, 12, 16, 20, 24, 28, 32, 36, 40, 44, 48])"
   ]
  },
  {
   "cell_type": "code",
   "execution_count": 3,
   "metadata": {},
   "outputs": [
    {
     "data": {
      "text/plain": [
       "array([ 1,  4,  8, 12, 16, 20, 24, 28, 32, 36, 40, 44, 48])"
      ]
     },
     "execution_count": 3,
     "metadata": {},
     "output_type": "execute_result"
    }
   ],
   "source": [
    "numproc"
   ]
  },
  {
   "cell_type": "code",
   "execution_count": 12,
   "metadata": {},
   "outputs": [],
   "source": [
    "timeinter1=np.array([2.62951157, 0.67194074, 0.33101428, 0.22822755, 0.17108404, 0.13996687, 0.13240704, 0.11065421, 0.0964188,0.11930782, 0.1221828, 0.11592547, 0.12284655])\n",
    "t1i=2.62951157\n",
    "Spis1=t1i/timeinter1"
   ]
  },
  {
   "cell_type": "code",
   "execution_count": 14,
   "metadata": {},
   "outputs": [],
   "source": [
    "timeinter2=np.array([27.41100612, 6.61054308, 3.29853151, 2.21828879, 1.67541609, 1.35647902, 1.14945819, 1.03576333, 0.94155652, 0.84628811, 0.77474216, 0.75376713, 0.76673436])\n",
    "t2i=27.41100612\n",
    "Spis2=t2i/timeinter2"
   ]
  },
  {
   "cell_type": "code",
   "execution_count": 13,
   "metadata": {},
   "outputs": [
    {
     "data": {
      "text/plain": [
       "array([ 1.        ,  3.91330874,  7.943801  , 11.52144678, 15.36970702,\n",
       "       18.78667123, 19.85930333, 23.76332152, 27.27177241, 22.03972523,\n",
       "       21.52112711, 22.68277687, 21.4048467 ])"
      ]
     },
     "execution_count": 13,
     "metadata": {},
     "output_type": "execute_result"
    }
   ],
   "source": [
    "Spis1"
   ]
  },
  {
   "cell_type": "code",
   "execution_count": 15,
   "metadata": {},
   "outputs": [
    {
     "data": {
      "text/plain": [
       "array([ 1.        ,  4.14655888,  8.31006344, 12.35682488, 16.36071558,\n",
       "       20.2074678 , 23.8468927 , 26.46454583, 29.11243833, 32.38968597,\n",
       "       35.38081124, 36.36535082, 35.75032964])"
      ]
     },
     "execution_count": 15,
     "metadata": {},
     "output_type": "execute_result"
    }
   ],
   "source": [
    "Spis2"
   ]
  },
  {
   "cell_type": "code",
   "execution_count": 18,
   "metadata": {},
   "outputs": [],
   "source": [
    "timeinter3=np.array([263.6653838, 66.38387938, 33.31589103, 22.1821822, 16.83784706, 13.71514495, 12.06548924, 10.68001826, 9.63965386, 9.56472191, 7.82855884, 7.27653838, 6.71789552])\n",
    "t3i=263.6653838\n",
    "Spis3=t3i/timeinter3"
   ]
  },
  {
   "cell_type": "code",
   "execution_count": 19,
   "metadata": {},
   "outputs": [
    {
     "data": {
      "text/plain": [
       "array([ 1.        ,  3.9718285 ,  7.91410272, 11.88635912, 15.65909126,\n",
       "       19.22439644, 21.85285475, 24.68772781, 27.35216302, 27.56644535,\n",
       "       33.67993895, 36.23500214, 39.24821144])"
      ]
     },
     "execution_count": 19,
     "metadata": {},
     "output_type": "execute_result"
    }
   ],
   "source": [
    "Spis3"
   ]
  },
  {
   "cell_type": "code",
   "execution_count": 21,
   "metadata": {},
   "outputs": [],
   "source": [
    "import numpy as np\n",
    "numproc2=np.array([1, 12, 24, 48])"
   ]
  },
  {
   "cell_type": "code",
   "execution_count": 22,
   "metadata": {},
   "outputs": [
    {
     "data": {
      "text/plain": [
       "array([ 1, 12, 24, 48])"
      ]
     },
     "execution_count": 22,
     "metadata": {},
     "output_type": "execute_result"
    }
   ],
   "source": [
    "numproc2"
   ]
  },
  {
   "cell_type": "code",
   "execution_count": 23,
   "metadata": {},
   "outputs": [],
   "source": [
    "timeinter=np.array([2.62981359, 0.22037794, 0.11908735, 0.11482613])\n",
    "t4i=2.62981359\n",
    "Spis4=t4i/timeinter"
   ]
  },
  {
   "cell_type": "code",
   "execution_count": 24,
   "metadata": {},
   "outputs": [
    {
     "data": {
      "text/plain": [
       "array([ 1.        , 11.93319799, 22.08306415, 22.90257096])"
      ]
     },
     "execution_count": 24,
     "metadata": {},
     "output_type": "execute_result"
    }
   ],
   "source": [
    "Spis4"
   ]
  },
  {
   "cell_type": "code",
   "execution_count": 27,
   "metadata": {},
   "outputs": [
    {
     "data": {
      "image/png": "[encoded data removed]",
      "text/plain": [
       "<Figure size 432x288 with 1 Axes>"
      ]
     },
     "metadata": {
      "needs_background": "light"
     },
     "output_type": "display_data"
    }
   ],
   "source": [
    "import numpy as np\n",
    "import matplotlib.pyplot as plt\n",
    "\n",
    "plt.plot(numproc, Spis1, 'r--', label=\"10^8\")\n",
    "plt.plot(numproc, Spis2, 'b--', label=\"10^9\")\n",
    "plt.plot(numproc, Spis3, 'g--', label=\"10^10\")\n",
    "plt.plot(numproc2, Spis4, 'g^', label=\"10^11\")\n",
    "plt.xlabel('processors number')\n",
    "plt.ylabel('speedup')\n",
    "#plt.text(0,.00020, r'$N=2000$')\n",
    "plt.suptitle('strong scalability internal time')\n",
    "plt.legend(loc='best')\n",
    "plt.savefig('strongtotint.png')\n",
    "plt.show()"
   ]
  },
  {
   "cell_type": "code",
   "execution_count": 99,
   "metadata": {},
   "outputs": [],
   "source": [
    "import numpy as np\n",
    "numproc=np.array([1, 4, 8, 12, 16, 20, 24, 28, 32, 36, 40, 44, 48])\n",
    "timeesec=np.array([2.89666666666667, 2.94666666666667, 2.99333333333333, 3.07, 3.17333333333333, 3.26333333333333, 3.4, 3.75666666666667, 3.83666666666667, 3.95333333333333, 4.12666666666667, 4.29666666666667, 4.53666666666667])\n",
    "t1=2.89666666666667\n",
    "Spuw1=t1/timeesec"
   ]
  },
  {
   "cell_type": "code",
   "execution_count": 100,
   "metadata": {},
   "outputs": [
    {
     "data": {
      "text/plain": [
       "array([1.        , 0.98303167, 0.96770601, 0.94353963, 0.91281513,\n",
       "       0.88764045, 0.85196078, 0.77107365, 0.75499566, 0.73271501,\n",
       "       0.70193861, 0.67416602, 0.6385011 ])"
      ]
     },
     "execution_count": 100,
     "metadata": {},
     "output_type": "execute_result"
    }
   ],
   "source": [
    "Spuw1"
   ]
  },
  {
   "cell_type": "code",
   "execution_count": 101,
   "metadata": {},
   "outputs": [],
   "source": [
    "timeinter=np.array([2.62906225, 2.63457773, 2.64574085, 2.68263289, 2.68242693, 2.74615441, 2.76263236, 3.05710696, 3.12656027, 3.09425462, 3.16279906, 3.18069676, 3.33818174])\n",
    "t1i=2.62906225\n",
    "Spiw1=t1i/timeinter"
   ]
  },
  {
   "cell_type": "code",
   "execution_count": 102,
   "metadata": {},
   "outputs": [
    {
     "data": {
      "text/plain": [
       "array([1.        , 0.9979065 , 0.99369606, 0.98003057, 0.98010582,\n",
       "       0.95736141, 0.95165115, 0.85998373, 0.84088008, 0.84965931,\n",
       "       0.83124543, 0.82656803, 0.78757313])"
      ]
     },
     "execution_count": 102,
     "metadata": {},
     "output_type": "execute_result"
    }
   ],
   "source": [
    "Spiw1"
   ]
  },
  {
   "cell_type": "code",
   "execution_count": 104,
   "metadata": {},
   "outputs": [
    {
     "data": {
      "image/png": "[encoded data removed]",
      "text/plain": [
       "<Figure size 432x288 with 1 Axes>"
      ]
     },
     "metadata": {
      "needs_background": "light"
     },
     "output_type": "display_data"
    }
   ],
   "source": [
    "import numpy as np\n",
    "import matplotlib.pyplot as plt\n",
    "\n",
    "plt.plot(numproc, Spuw, 'r--', label=\"usr\")\n",
    "plt.plot(numproc, Spiw, 'b--', label=\"int\")\n",
    "plt.xlabel('processors numbers')\n",
    "plt.ylabel('speedup')\n",
    "#plt.text(0,.00020, r'$N=2000$')\n",
    "plt.suptitle('weak scalability')\n",
    "plt.legend(loc='best')\n",
    "plt.savefig('weak100.png')\n",
    "plt.show()"
   ]
  },
  {
   "cell_type": "code",
   "execution_count": null,
   "metadata": {},
   "outputs": [],
   "source": [
    "timeinter=np.array([2.62951157, 0.67194074, 0.33101428, 0.22822755, 0.17108404, 0.13996687, 0.13240704, 0.11065421, 0.0964188,0.11930782, 0.1221828, 0.11592547, 0.12284655])\n",
    "t1i=2.62951157\n",
    "Spis1=t1i/timeinter"
   ]
  },
  {
   "cell_type": "code",
   "execution_count": null,
   "metadata": {},
   "outputs": [],
   "source": [
    "Spis1"
   ]
  },
  {
   "cell_type": "code",
   "execution_count": null,
   "metadata": {},
   "outputs": [],
   "source": []
  },
  {
   "cell_type": "code",
   "execution_count": null,
   "metadata": {},
   "outputs": [],
   "source": []
  },
  {
   "cell_type": "code",
   "execution_count": null,
   "metadata": {},
   "outputs": [],
   "source": []
  }
 ],
 "metadata": {
  "kernelspec": {
   "display_name": "Python 3",
   "language": "python",
   "name": "python3"
  },
  "language_info": {
   "codemirror_mode": {
    "name": "ipython",
    "version": 3
   },
   "file_extension": ".py",
   "mimetype": "text/x-python",
   "name": "python",
   "nbconvert_exporter": "python",
   "pygments_lexer": "ipython3",
   "version": "3.8.5"
  }
 },
 "nbformat": 4,
 "nbformat_minor": 4
}
