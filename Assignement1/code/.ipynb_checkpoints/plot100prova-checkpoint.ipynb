{
 "cells": [
  {
   "cell_type": "code",
   "execution_count": 1,
   "metadata": {},
   "outputs": [],
   "source": [
    "def FD(f, x, h):\n",
    "  return (f(x+h)-f(x))/h\n",
    "\n",
    "def CFD(f, x, h):\n",
    "  return (f(x+h)-f(x-h))/(2*h)\n",
    "\n",
    "def myfun(x):\n",
    "  return sin(x)\n",
    "\n",
    "def exact(x):\n",
    "  return cos(x)\n",
    "\n",
    "\n",
    "\n",
    "\n"
   ]
  },
  {
   "cell_type": "code",
   "execution_count": 5,
   "metadata": {},
   "outputs": [],
   "source": [
    "import numpy as np"
   ]
  },
  {
   "cell_type": "code",
   "execution_count": 6,
   "metadata": {},
   "outputs": [],
   "source": [
    "a=np.array([9,5])\n"
   ]
  },
  {
   "cell_type": "code",
   "execution_count": 7,
   "metadata": {},
   "outputs": [
    {
     "data": {
      "text/plain": [
       "5"
      ]
     },
     "execution_count": 7,
     "metadata": {},
     "output_type": "execute_result"
    }
   ],
   "source": [
    "a[1]"
   ]
  },
  {
   "cell_type": "code",
   "execution_count": 8,
   "metadata": {},
   "outputs": [
    {
     "data": {
      "text/plain": [
       "9"
      ]
     },
     "execution_count": 8,
     "metadata": {},
     "output_type": "execute_result"
    }
   ],
   "source": [
    "a[0]"
   ]
  },
  {
   "cell_type": "code",
   "execution_count": 9,
   "metadata": {},
   "outputs": [
    {
     "data": {
      "text/plain": [
       "5"
      ]
     },
     "execution_count": 9,
     "metadata": {},
     "output_type": "execute_result"
    }
   ],
   "source": [
    "a[-1]"
   ]
  },
  {
   "cell_type": "code",
   "execution_count": 10,
   "metadata": {},
   "outputs": [
    {
     "data": {
      "text/plain": [
       "array([5])"
      ]
     },
     "execution_count": 10,
     "metadata": {},
     "output_type": "execute_result"
    }
   ],
   "source": [
    "a[1:3]"
   ]
  },
  {
   "cell_type": "markdown",
   "metadata": {},
   "source": [
    "a[1:3]=0"
   ]
  },
  {
   "cell_type": "code",
   "execution_count": 11,
   "metadata": {},
   "outputs": [],
   "source": [
    "a[1:3]=0\n"
   ]
  },
  {
   "cell_type": "code",
   "execution_count": 12,
   "metadata": {},
   "outputs": [],
   "source": [
    "b=np.random.random((10,10))"
   ]
  },
  {
   "cell_type": "code",
   "execution_count": 13,
   "metadata": {},
   "outputs": [
    {
     "data": {
      "text/plain": [
       "array([[0.39116975, 0.73877394, 0.25420269, 0.45609535, 0.65777887,\n",
       "        0.31489463, 0.32206135, 0.7004027 , 0.92790512, 0.06633112],\n",
       "       [0.49894599, 0.15034893, 0.10532043, 0.1278949 , 0.92278588,\n",
       "        0.96090493, 0.99988852, 0.79926995, 0.30904341, 0.74723003],\n",
       "       [0.51556314, 0.29515247, 0.74646226, 0.94591246, 0.46975354,\n",
       "        0.33559382, 0.48026266, 0.51838862, 0.04686385, 0.02471848],\n",
       "       [0.82468841, 0.29671815, 0.07455796, 0.83312164, 0.52850961,\n",
       "        0.05180639, 0.2216864 , 0.89146277, 0.65891609, 0.06490516],\n",
       "       [0.29726637, 0.54402562, 0.9494411 , 0.29283452, 0.17688151,\n",
       "        0.31054671, 0.9259852 , 0.63598096, 0.16078416, 0.38474964],\n",
       "       [0.63488475, 0.29656832, 0.29853256, 0.964603  , 0.65753409,\n",
       "        0.14005475, 0.28100679, 0.82603777, 0.6901814 , 0.91577481],\n",
       "       [0.54147327, 0.74456157, 0.61384797, 0.49580852, 0.49091643,\n",
       "        0.245497  , 0.91101087, 0.18806579, 0.67035801, 0.85434177],\n",
       "       [0.57083262, 0.90815426, 0.388896  , 0.62180808, 0.18114317,\n",
       "        0.05758916, 0.91049075, 0.15392015, 0.82252758, 0.98750367],\n",
       "       [0.69114125, 0.95052018, 0.38359282, 0.3982802 , 0.05358224,\n",
       "        0.29158169, 0.94954025, 0.4086091 , 0.84861269, 0.77775562],\n",
       "       [0.46698358, 0.74851546, 0.07730039, 0.81819398, 0.02670045,\n",
       "        0.98257259, 0.60699215, 0.75502844, 0.53560466, 0.52455187]])"
      ]
     },
     "execution_count": 13,
     "metadata": {},
     "output_type": "execute_result"
    }
   ],
   "source": [
    "b"
   ]
  },
  {
   "cell_type": "code",
   "execution_count": 14,
   "metadata": {},
   "outputs": [
    {
     "data": {
      "text/plain": [
       "0.9459124589260939"
      ]
     },
     "execution_count": 14,
     "metadata": {},
     "output_type": "execute_result"
    }
   ],
   "source": [
    "b[2,3]"
   ]
  },
  {
   "cell_type": "code",
   "execution_count": 15,
   "metadata": {},
   "outputs": [
    {
     "data": {
      "text/plain": [
       "array([0.25085869, 0.94761587, 0.9251734 ])"
      ]
     },
     "execution_count": 15,
     "metadata": {},
     "output_type": "execute_result"
    }
   ],
   "source": [
    "b[1,2:5]"
   ]
  },
  {
   "cell_type": "code",
   "execution_count": 16,
   "metadata": {},
   "outputs": [
    {
     "data": {
      "text/plain": [
       "array([[0.17947393, 0.24639493, 0.76683591],\n",
       "       [0.05045637, 0.41642045, 0.65277328],\n",
       "       [0.25550477, 0.75608678, 0.63157915]])"
      ]
     },
     "execution_count": 16,
     "metadata": {},
     "output_type": "execute_result"
    }
   ],
   "source": [
    "b[2:5, 3:6]"
   ]
  },
  {
   "cell_type": "code",
   "execution_count": 18,
   "metadata": {},
   "outputs": [
    {
     "data": {
      "text/plain": [
       "array([[0.81156001, 0.74702635, 0.26888204],\n",
       "       [0.94761587, 0.9251734 , 0.2639005 ],\n",
       "       [0.17947393, 0.24639493, 0.76683591],\n",
       "       [0.05045637, 0.41642045, 0.65277328],\n",
       "       [0.25550477, 0.75608678, 0.63157915],\n",
       "       [0.1399294 , 0.40368384, 0.72898846],\n",
       "       [0.56431169, 0.58537716, 0.78859625],\n",
       "       [0.20087154, 0.33964247, 0.55413421],\n",
       "       [0.24399423, 0.40048604, 0.11675511],\n",
       "       [0.1672319 , 0.81090511, 0.30147663]])"
      ]
     },
     "execution_count": 18,
     "metadata": {},
     "output_type": "execute_result"
    }
   ],
   "source": [
    "b[0:10, 3:6]"
   ]
  },
  {
   "cell_type": "code",
   "execution_count": 19,
   "metadata": {},
   "outputs": [
    {
     "data": {
      "text/plain": [
       "array([[0.81156001, 0.74702635, 0.26888204],\n",
       "       [0.94761587, 0.9251734 , 0.2639005 ],\n",
       "       [0.17947393, 0.24639493, 0.76683591],\n",
       "       [0.05045637, 0.41642045, 0.65277328],\n",
       "       [0.25550477, 0.75608678, 0.63157915],\n",
       "       [0.1399294 , 0.40368384, 0.72898846],\n",
       "       [0.56431169, 0.58537716, 0.78859625],\n",
       "       [0.20087154, 0.33964247, 0.55413421],\n",
       "       [0.24399423, 0.40048604, 0.11675511],\n",
       "       [0.1672319 , 0.81090511, 0.30147663]])"
      ]
     },
     "execution_count": 19,
     "metadata": {},
     "output_type": "execute_result"
    }
   ],
   "source": [
    "b[:, 3:6]"
   ]
  },
  {
   "cell_type": "code",
   "execution_count": 20,
   "metadata": {},
   "outputs": [
    {
     "data": {
      "text/plain": [
       "array([[0.81156001, 0.74702635, 0.26888204],\n",
       "       [0.94761587, 0.9251734 , 0.2639005 ],\n",
       "       [0.17947393, 0.24639493, 0.76683591],\n",
       "       [0.05045637, 0.41642045, 0.65277328],\n",
       "       [0.25550477, 0.75608678, 0.63157915],\n",
       "       [0.1399294 , 0.40368384, 0.72898846],\n",
       "       [0.56431169, 0.58537716, 0.78859625],\n",
       "       [0.20087154, 0.33964247, 0.55413421],\n",
       "       [0.24399423, 0.40048604, 0.11675511],\n",
       "       [0.1672319 , 0.81090511, 0.30147663]])"
      ]
     },
     "execution_count": 20,
     "metadata": {},
     "output_type": "execute_result"
    }
   ],
   "source": [
    "b[0:10, 3:6]\n",
    "#b[0:, 3:6]\n",
    "#b[:10, 3:6]\n",
    "#b[:, 3:6]"
   ]
  },
  {
   "cell_type": "code",
   "execution_count": 21,
   "metadata": {},
   "outputs": [
    {
     "data": {
      "text/plain": [
       "array([[0.01781112, 0.01632505, 0.52821647, 0.81156001, 0.74702635,\n",
       "        0.26888204, 0.51114993, 0.83206722, 0.85595362, 0.54390521],\n",
       "       [0.01109585, 0.4681126 , 0.25085869, 0.94761587, 0.9251734 ,\n",
       "        0.2639005 , 0.94588818, 0.83730296, 0.53151119, 0.8764482 ],\n",
       "       [0.2464472 , 0.22457516, 0.06867637, 0.17947393, 0.24639493,\n",
       "        0.76683591, 0.68564474, 0.36861505, 0.4954617 , 0.31229838],\n",
       "       [0.93639412, 0.58219655, 0.37170261, 0.05045637, 0.41642045,\n",
       "        0.65277328, 0.90641524, 0.09287848, 0.6013889 , 0.7576928 ],\n",
       "       [0.78250453, 0.46465111, 0.55803155, 0.25550477, 0.75608678,\n",
       "        0.63157915, 0.69684327, 0.35650377, 0.26780818, 0.93607127],\n",
       "       [0.84369868, 0.26771827, 0.36628342, 0.1399294 , 0.40368384,\n",
       "        0.72898846, 0.22342668, 0.06650172, 0.7151288 , 0.63922374],\n",
       "       [0.04175827, 0.48374951, 0.92943036, 0.56431169, 0.58537716,\n",
       "        0.78859625, 0.28395854, 0.25208721, 0.55286285, 0.35328713],\n",
       "       [0.51367742, 0.37101838, 0.01168211, 0.20087154, 0.33964247,\n",
       "        0.55413421, 0.06343587, 0.13713526, 0.28221133, 0.32778744],\n",
       "       [0.32738194, 0.22881902, 0.71800461, 0.24399423, 0.40048604,\n",
       "        0.11675511, 0.94807964, 0.56230924, 0.94934504, 0.69608368],\n",
       "       [0.17505678, 0.58500226, 0.33375801, 0.1672319 , 0.81090511,\n",
       "        0.30147663, 0.02155695, 0.42269546, 0.29801905, 0.03947101]])"
      ]
     },
     "execution_count": 21,
     "metadata": {},
     "output_type": "execute_result"
    }
   ],
   "source": [
    "b[:,:]"
   ]
  },
  {
   "cell_type": "code",
   "execution_count": 24,
   "metadata": {},
   "outputs": [],
   "source": [
    "c=np.random.random([5,5])"
   ]
  },
  {
   "cell_type": "code",
   "execution_count": 25,
   "metadata": {},
   "outputs": [
    {
     "data": {
      "text/plain": [
       "array([[0.70446148, 0.82169878, 0.83774033, 0.96599257, 0.55299202],\n",
       "       [0.86448422, 0.30477953, 0.06876293, 0.16670844, 0.35720611],\n",
       "       [0.20641161, 0.75000387, 0.26235394, 0.3911975 , 0.63431516],\n",
       "       [0.93164949, 0.78123261, 0.64387379, 0.03318385, 0.3359795 ],\n",
       "       [0.63770114, 0.44001618, 0.70365763, 0.26928014, 0.88553525]])"
      ]
     },
     "execution_count": 25,
     "metadata": {},
     "output_type": "execute_result"
    }
   ],
   "source": [
    "c"
   ]
  },
  {
   "cell_type": "code",
   "execution_count": 26,
   "metadata": {},
   "outputs": [],
   "source": [
    "c[::2, 1:3]=0"
   ]
  },
  {
   "cell_type": "code",
   "execution_count": 27,
   "metadata": {},
   "outputs": [
    {
     "data": {
      "text/plain": [
       "array([[0.70446148, 0.        , 0.        , 0.96599257, 0.55299202],\n",
       "       [0.86448422, 0.30477953, 0.06876293, 0.16670844, 0.35720611],\n",
       "       [0.20641161, 0.        , 0.        , 0.3911975 , 0.63431516],\n",
       "       [0.93164949, 0.78123261, 0.64387379, 0.03318385, 0.3359795 ],\n",
       "       [0.63770114, 0.        , 0.        , 0.26928014, 0.88553525]])"
      ]
     },
     "execution_count": 27,
     "metadata": {},
     "output_type": "execute_result"
    }
   ],
   "source": [
    "c"
   ]
  },
  {
   "cell_type": "code",
   "execution_count": 28,
   "metadata": {},
   "outputs": [
    {
     "data": {
      "text/plain": [
       "array([[-1., -1., -1., -1., -1.],\n",
       "       [-1., -1., -1., -1., -1.],\n",
       "       [-1., -1., -1., -1., -1.],\n",
       "       [-1., -1., -1., -1., -1.],\n",
       "       [-1., -1., -1., -1., -1.]])"
      ]
     },
     "execution_count": 28,
     "metadata": {},
     "output_type": "execute_result"
    }
   ],
   "source": [
    "c[:, :]= -1\n",
    "c"
   ]
  },
  {
   "cell_type": "code",
   "execution_count": 29,
   "metadata": {},
   "outputs": [],
   "source": [
    "c=-1"
   ]
  },
  {
   "cell_type": "code",
   "execution_count": 30,
   "metadata": {},
   "outputs": [
    {
     "data": {
      "text/plain": [
       "-1"
      ]
     },
     "execution_count": 30,
     "metadata": {},
     "output_type": "execute_result"
    }
   ],
   "source": [
    "c"
   ]
  },
  {
   "cell_type": "code",
   "execution_count": 34,
   "metadata": {},
   "outputs": [
    {
     "data": {
      "text/plain": [
       "array([0, 1, 2, 3, 4, 5, 6, 7, 8, 9])"
      ]
     },
     "execution_count": 34,
     "metadata": {},
     "output_type": "execute_result"
    }
   ],
   "source": [
    "v1=np.arange(10)\n",
    "v1\n",
    "\n",
    "#array([0, 1, 2, 3, 4, 5, 6, 7, 8 ,9])"
   ]
  },
  {
   "cell_type": "code",
   "execution_count": 37,
   "metadata": {},
   "outputs": [],
   "source": [
    "def f(x,y):\n",
    "    return np.sin(x) * np.cos(y)"
   ]
  },
  {
   "cell_type": "code",
   "execution_count": 38,
   "metadata": {},
   "outputs": [
    {
     "data": {
      "text/plain": [
       "0.04003040989885004"
      ]
     },
     "execution_count": 38,
     "metadata": {},
     "output_type": "execute_result"
    }
   ],
   "source": [
    "f(3, 5)"
   ]
  },
  {
   "cell_type": "code",
   "execution_count": null,
   "metadata": {},
   "outputs": [],
   "source": []
  },
  {
   "cell_type": "markdown",
   "metadata": {},
   "source": []
  },
  {
   "cell_type": "code",
   "execution_count": null,
   "metadata": {},
   "outputs": [],
   "source": []
  },
  {
   "cell_type": "code",
   "execution_count": 21,
   "metadata": {},
   "outputs": [
    {
     "data": {
      "image/png": "[encoded data removed]",
      "text/plain": [
       "<Figure size 432x288 with 1 Axes>"
      ]
     },
     "metadata": {
      "needs_background": "light"
     },
     "output_type": "display_data"
    }
   ],
   "source": [
    "import numpy as np\n",
    "import matplotlib.pyplot as plt\n",
    "plt.plot([1,2,3,4])\n",
    "plt.ylabel('some numbers')\n",
    "plt.show()"
   ]
  },
  {
   "cell_type": "code",
   "execution_count": 3,
   "metadata": {},
   "outputs": [
    {
     "data": {
      "text/plain": [
       "[<matplotlib.lines.Line2D at 0x7f5195dfd6d0>]"
      ]
     },
     "execution_count": 3,
     "metadata": {},
     "output_type": "execute_result"
    },
    {
     "data": {
      "image/png": "[encoded data removed]",
      "text/plain": [
       "<Figure size 432x288 with 1 Axes>"
      ]
     },
     "metadata": {
      "needs_background": "light"
     },
     "output_type": "display_data"
    }
   ],
   "source": [
    "plt.plot([1,2,3,4], [1,4,9,16])"
   ]
  },
  {
   "cell_type": "code",
   "execution_count": 25,
   "metadata": {},
   "outputs": [
    {
     "data": {
      "image/png": "[encoded data removed]",
      "text/plain": [
       "<Figure size 432x288 with 1 Axes>"
      ]
     },
     "metadata": {
      "needs_background": "light"
     },
     "output_type": "display_data"
    }
   ],
   "source": [
    "import numpy as np\n",
    "\n",
    "# evenly sampled time at 200ms intervals\n",
    "t = np.arange(0., 5., 0.2)\n",
    "\n",
    "# red dashes, blue squares and green triangles\n",
    "plt.plot(t, t, 'r--', t, t**2, 'bs', t, t**3, 'g^')\n",
    "plt.show()\n"
   ]
  },
  {
   "cell_type": "code",
   "execution_count": 3,
   "metadata": {},
   "outputs": [],
   "source": [
    "p=np.arange(1,60)"
   ]
  },
  {
   "cell_type": "code",
   "execution_count": 4,
   "metadata": {},
   "outputs": [],
   "source": [
    "N=2000\n",
    "Tcomm=10**(-6)\n",
    "Tread=10**(-4)\n",
    "Tcomp=2*10**(-9)\n",
    "tp=Tcomp*(p-1+N/p)+Tread+2*(p-1)*Tcomm"
   ]
  },
  {
   "cell_type": "code",
   "execution_count": 104,
   "metadata": {},
   "outputs": [],
   "source": [
    "tp=Tcomp*(p-1+N/p)+Tread+2*(p-1)*Tcomm\n"
   ]
  },
  {
   "cell_type": "code",
   "execution_count": null,
   "metadata": {},
   "outputs": [],
   "source": []
  },
  {
   "cell_type": "code",
   "execution_count": 5,
   "metadata": {
    "scrolled": true
   },
   "outputs": [
    {
     "data": {
      "image/png": "[encoded data removed]",
      "text/plain": [
       "<Figure size 432x288 with 1 Axes>"
      ]
     },
     "metadata": {
      "needs_background": "light"
     },
     "output_type": "display_data"
    }
   ],
   "source": [
    "import numpy as np\n",
    "import matplotlib.pyplot as plt\n",
    "\n",
    "plt.plot(p, tp, 'r--')\n",
    "plt.xlabel('processors numbers')\n",
    "plt.ylabel('tp')\n",
    "#plt.text(0,.00020, r'$N=2000$')\n",
    "plt.suptitle('N=2000')\n",
    "plt.savefig('N=200.png')\n",
    "plt.show()"
   ]
  },
  {
   "cell_type": "code",
   "execution_count": 16,
   "metadata": {},
   "outputs": [],
   "source": [
    "numproc=np.array([1, 4, 8, 16, 20, 24, 28, 32, 36, 40, 44, 48])"
   ]
  },
  {
   "cell_type": "code",
   "execution_count": 17,
   "metadata": {},
   "outputs": [
    {
     "data": {
      "text/plain": [
       "array([ 1,  4,  8, 16, 20, 24, 28, 32, 36, 40, 44, 48])"
      ]
     },
     "execution_count": 17,
     "metadata": {},
     "output_type": "execute_result"
    }
   ],
   "source": [
    "numproc"
   ]
  },
  {
   "cell_type": "code",
   "execution_count": 18,
   "metadata": {},
   "outputs": [],
   "source": [
    "timeesec=np.array([2.93, 0.97, 0.67, 0.60, 0.63, 0.69, 0.81, 0.86, 0.95, 1.03, 1.26, 1.37])\n",
    "t1=2.93\n",
    "Sp=t1/timeesec"
   ]
  },
  {
   "cell_type": "code",
   "execution_count": 19,
   "metadata": {},
   "outputs": [
    {
     "data": {
      "text/plain": [
       "array([1.        , 3.02061856, 4.37313433, 4.88333333, 4.65079365,\n",
       "       4.24637681, 3.61728395, 3.40697674, 3.08421053, 2.84466019,\n",
       "       2.32539683, 2.13868613])"
      ]
     },
     "execution_count": 19,
     "metadata": {},
     "output_type": "execute_result"
    }
   ],
   "source": [
    "timeesec\n",
    "Sp"
   ]
  },
  {
   "cell_type": "code",
   "execution_count": 20,
   "metadata": {},
   "outputs": [],
   "source": [
    "timeinter=np.array([2.63192632, 0.65914836, 0.33059860, 0.16988751, 0.13865696, 0.13098024, 0.10529022, 0.12067007, 0.09069810, 0.10870490, 0.15025266, 0.12876127])\n",
    "t1i=2.63192632\n",
    "Spint=t1i/timeinter"
   ]
  },
  {
   "cell_type": "code",
   "execution_count": 44,
   "metadata": {},
   "outputs": [
    {
     "data": {
      "image/png": "[encoded data removed]",
      "text/plain": [
       "<Figure size 432x288 with 1 Axes>"
      ]
     },
     "metadata": {
      "needs_background": "light"
     },
     "output_type": "display_data"
    }
   ],
   "source": [
    "import numpy as np\n",
    "import matplotlib.pyplot as plt\n",
    "\n",
    "plt.plot(numproc, Sp, 'r--', numproc, Spint, 'b--')\n",
    "plt.xlabel('processors numbers')\n",
    "plt.ylabel('speedup')\n",
    "#plt.text(0,.00020, r'$N=2000$')\n",
    "plt.suptitle('strong scalability')\n",
    "plt.savefig('strong.png')\n",
    "plt.show()"
   ]
  },
  {
   "cell_type": "code",
   "execution_count": 34,
   "metadata": {},
   "outputs": [],
   "source": [
    "import numpy as np\n",
    "numproc=np.array([1, 4, 8, 16, 20, 24, 28, 32, 36, 40, 44, 48])\n",
    "timeesec=np.array([2.89666666666667, 0.956666666666667, 0.67, 0.606666666666667, 0.64, 0.69, 0.823333333333333, 0.85, 0.98, 1.08, 1.22, 1.36666666666667])\n",
    "t1=2.89666666666667\n",
    "Spa=t1/timeesec"
   ]
  },
  {
   "cell_type": "code",
   "execution_count": 35,
   "metadata": {},
   "outputs": [
    {
     "data": {
      "text/plain": [
       "array([1.        , 3.02787456, 4.32338308, 4.77472527, 4.52604167,\n",
       "       4.19806763, 3.51821862, 3.40784314, 2.95578231, 2.68209877,\n",
       "       2.37431694, 2.1195122 ])"
      ]
     },
     "execution_count": 35,
     "metadata": {},
     "output_type": "execute_result"
    }
   ],
   "source": [
    "Spa"
   ]
  },
  {
   "cell_type": "code",
   "execution_count": 41,
   "metadata": {},
   "outputs": [
    {
     "data": {
      "image/png": "[encoded data removed]",
      "text/plain": [
       "<Figure size 432x288 with 1 Axes>"
      ]
     },
     "metadata": {
      "needs_background": "light"
     },
     "output_type": "display_data"
    }
   ],
   "source": [
    "import numpy as np\n",
    "import matplotlib.pyplot as plt\n",
    "\n",
    "plt.plot(numproc, Spa, 'r--')\n",
    "plt.xlabel('processors numbers')\n",
    "plt.ylabel('speedup')\n",
    "#plt.text(0,.00020, r'$N=2000$')\n",
    "plt.suptitle('strong scalability')\n",
    "plt.savefig('strong0.png')\n",
    "plt.show()"
   ]
  },
  {
   "cell_type": "code",
   "execution_count": 37,
   "metadata": {},
   "outputs": [],
   "source": [
    "import numpy as np\n",
    "numproc=np.array([1, 4, 8, 16, 20, 24, 28, 32, 36, 40, 44, 48])\n",
    "timeesec=np.array([3.00666666666667, 2.94333333333333, 3.00666666666667, 3.15333333333333, 3.22333333333333, 3.33666666666667, 3.71333333333333, 3.80666666666667, 4.04, 4.21, 4.38, 4.96])\n",
    "t1=3.00666666666667\n",
    "Spb=t1/timeesec"
   ]
  },
  {
   "cell_type": "code",
   "execution_count": 38,
   "metadata": {},
   "outputs": [
    {
     "data": {
      "text/plain": [
       "array([1.        , 1.02151755, 1.        , 0.95348837, 0.9327818 ,\n",
       "       0.9010989 , 0.80969479, 0.78984238, 0.74422442, 0.7141726 ,\n",
       "       0.68645358, 0.6061828 ])"
      ]
     },
     "execution_count": 38,
     "metadata": {},
     "output_type": "execute_result"
    }
   ],
   "source": [
    "Spb"
   ]
  },
  {
   "cell_type": "code",
   "execution_count": 42,
   "metadata": {},
   "outputs": [
    {
     "data": {
      "image/png": "[encoded data removed]",
      "text/plain": [
       "<Figure size 432x288 with 1 Axes>"
      ]
     },
     "metadata": {
      "needs_background": "light"
     },
     "output_type": "display_data"
    }
   ],
   "source": [
    "import numpy as np\n",
    "import matplotlib.pyplot as plt\n",
    "\n",
    "plt.plot(numproc, Spb, 'r--')\n",
    "plt.xlabel('processors numbers')\n",
    "plt.ylabel('speedup')\n",
    "#plt.text(0,.00020, r'$N=2000$')\n",
    "plt.suptitle('weak scalability')\n",
    "plt.savefig('weak0.png')\n",
    "plt.show()"
   ]
  },
  {
   "cell_type": "code",
   "execution_count": 43,
   "metadata": {},
   "outputs": [
    {
     "data": {
      "image/png": "[encoded data removed]",
      "text/plain": [
       "<Figure size 432x288 with 1 Axes>"
      ]
     },
     "metadata": {
      "needs_background": "light"
     },
     "output_type": "display_data"
    }
   ],
   "source": [
    "import numpy as np\n",
    "import matplotlib.pyplot as plt\n",
    "\n",
    "plt.plot(numproc, Spa, 'r--', numproc, Spb, 'b--')\n",
    "plt.xlabel('processors numbers')\n",
    "plt.ylabel('speedup')\n",
    "#plt.text(0,.00020, r'$N=2000$')\n",
    "plt.suptitle('strong&weak scalability')\n",
    "plt.savefig('all0.png')\n",
    "plt.show()"
   ]
  },
  {
   "cell_type": "code",
   "execution_count": null,
   "metadata": {},
   "outputs": [],
   "source": []
  }
 ],
 "metadata": {
  "kernelspec": {
   "display_name": "Python 3",
   "language": "python",
   "name": "python3"
  },
  "language_info": {
   "codemirror_mode": {
    "name": "ipython",
    "version": 3
   },
   "file_extension": ".py",
   "mimetype": "text/x-python",
   "name": "python",
   "nbconvert_exporter": "python",
   "pygments_lexer": "ipython3",
   "version": "3.8.5"
  }
 },
 "nbformat": 4,
 "nbformat_minor": 4
}
